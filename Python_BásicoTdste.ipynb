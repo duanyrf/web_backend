{
  "nbformat": 4,
  "nbformat_minor": 0,
  "metadata": {
    "colab": {
      "name": "Python_BásicoTdste.ipynb",
      "provenance": [],
      "collapsed_sections": [],
      "authorship_tag": "ABX9TyPOI8MyHjTECPLA4Bv/ZYVZ",
      "include_colab_link": true
    },
    "kernelspec": {
      "name": "python3",
      "display_name": "Python 3"
    },
    "accelerator": "GPU"
  },
  "cells": [
    {
      "cell_type": "markdown",
      "metadata": {
        "id": "view-in-github",
        "colab_type": "text"
      },
      "source": [
        "<a href=\"https://colab.research.google.com/github/duanyrf/web_backend/blob/master/Python_B%C3%A1sicoTdste.ipynb\" target=\"_parent\"><img src=\"https://colab.research.google.com/assets/colab-badge.svg\" alt=\"Open In Colab\"/></a>"
      ]
    },
    {
      "cell_type": "markdown",
      "metadata": {
        "id": "UVirLfDeUdCH",
        "colab_type": "text"
      },
      "source": [
        "# **Python Básico**\n",
        "\n",
        "Disciplina: Programação Web Backend\n",
        "\n",
        "Professor: Me. Duany Dreyton\n",
        "\n",
        "Semestre Letivo: 2020.1"
      ]
    },
    {
      "cell_type": "markdown",
      "metadata": {
        "id": "2IjAW61pVaaV",
        "colab_type": "text"
      },
      "source": [
        "*Assunto: Neste notebook serão reapresentados conceitos básicos da Linguagem Python.*"
      ]
    },
    {
      "cell_type": "markdown",
      "metadata": {
        "id": "8xLuwarwV8on",
        "colab_type": "text"
      },
      "source": [
        "##Revisão de Linguagem Python (básico):\n",
        "- Executando scripts em Python\n",
        "- Declarando variáveis\n",
        "- Operadores matemáticos\n",
        "- Métodos\n",
        "- Coleções :\n",
        "    * Lista\n",
        "    * Tupla\n",
        "    * Conjunto\n",
        "- Estrutura Condicional (IF-ELSE)\n",
        "- Estruturas de Repetição (FOR, WHILE)"
      ]
    },
    {
      "cell_type": "markdown",
      "metadata": {
        "id": "g5N-kLumWTnN",
        "colab_type": "text"
      },
      "source": [
        "### 1. Scripts em Python\n",
        "\n",
        "Scripts em Python são executados à partir de um terminal/console do sistema operacional. Para isso, é necessário seguir as seguintes etapas:\n",
        "\n",
        "a) Com o auxílio de um editor de texto ou IDE, crie um novo arquivo com o conteúdo *print('Olá Mundo!')* e salve-o com a extensão \"*.py*\".\n",
        "\n",
        "b) Abra o terminal de linha de comando e navegue até o diretório onde o arquivo python está.\n",
        "\n",
        "c) Execute o seguinte comando: \n",
        "\n",
        "``` bash\n",
        "$ python <nome-arquivo>.py\n",
        "```\n",
        "Aguarde e observe o resultado do seu programa na tela do terminal.\n"
      ]
    },
    {
      "cell_type": "markdown",
      "metadata": {
        "id": "MaaCoVQCWmgw",
        "colab_type": "text"
      },
      "source": [
        "### 2. Variáveis"
      ]
    },
    {
      "cell_type": "code",
      "metadata": {
        "id": "32m-yYrRZrYs",
        "colab_type": "code",
        "colab": {}
      },
      "source": [
        "a = 1"
      ],
      "execution_count": 0,
      "outputs": []
    },
    {
      "cell_type": "code",
      "metadata": {
        "id": "avP8QJpJaIq2",
        "colab_type": "code",
        "colab": {}
      },
      "source": [
        "a"
      ],
      "execution_count": 0,
      "outputs": []
    },
    {
      "cell_type": "code",
      "metadata": {
        "id": "e97x_8gRaLkA",
        "colab_type": "code",
        "colab": {}
      },
      "source": [
        "print(a)"
      ],
      "execution_count": 0,
      "outputs": []
    },
    {
      "cell_type": "code",
      "metadata": {
        "id": "8vSjnWezaORk",
        "colab_type": "code",
        "colab": {}
      },
      "source": [
        "b = 200"
      ],
      "execution_count": 0,
      "outputs": []
    },
    {
      "cell_type": "code",
      "metadata": {
        "id": "FkljTYNfaTUa",
        "colab_type": "code",
        "colab": {}
      },
      "source": [
        "print(b)"
      ],
      "execution_count": 0,
      "outputs": []
    },
    {
      "cell_type": "code",
      "metadata": {
        "id": "srf8CsIbaWOX",
        "colab_type": "code",
        "colab": {}
      },
      "source": [
        "a = 123"
      ],
      "execution_count": 0,
      "outputs": []
    },
    {
      "cell_type": "code",
      "metadata": {
        "id": "Xraoa-aSaZdc",
        "colab_type": "code",
        "colab": {}
      },
      "source": [
        "print(a)"
      ],
      "execution_count": 0,
      "outputs": []
    },
    {
      "cell_type": "code",
      "metadata": {
        "id": "hUZd-ggaabhJ",
        "colab_type": "code",
        "colab": {}
      },
      "source": [
        "a = 'aluno'"
      ],
      "execution_count": 0,
      "outputs": []
    },
    {
      "cell_type": "code",
      "metadata": {
        "id": "WXuYB-jcagjf",
        "colab_type": "code",
        "colab": {}
      },
      "source": [
        "print(a)"
      ],
      "execution_count": 0,
      "outputs": []
    },
    {
      "cell_type": "markdown",
      "metadata": {
        "id": "7yrBMBYgWrwc",
        "colab_type": "text"
      },
      "source": [
        "### 3. Operadores Matemáticos"
      ]
    },
    {
      "cell_type": "markdown",
      "metadata": {
        "id": "qfsqASPOW8zB",
        "colab_type": "text"
      },
      "source": [
        "#### 3.1) Operadores Aritméticos"
      ]
    },
    {
      "cell_type": "code",
      "metadata": {
        "id": "bSH9anAoamDt",
        "colab_type": "code",
        "colab": {}
      },
      "source": [
        "# Adição (+)\n",
        "1 + 1"
      ],
      "execution_count": 0,
      "outputs": []
    },
    {
      "cell_type": "code",
      "metadata": {
        "id": "EVSnS-WMatBw",
        "colab_type": "code",
        "colab": {}
      },
      "source": [
        "soma = 3 + 5\n",
        "print(soma)"
      ],
      "execution_count": 0,
      "outputs": []
    },
    {
      "cell_type": "code",
      "metadata": {
        "id": "rhllmDZDa8xW",
        "colab_type": "code",
        "colab": {}
      },
      "source": [
        "# Subtração (-)\n",
        "123 - 90"
      ],
      "execution_count": 0,
      "outputs": []
    },
    {
      "cell_type": "code",
      "metadata": {
        "id": "MgdZrInObIYN",
        "colab_type": "code",
        "colab": {}
      },
      "source": [
        "sub = 123 - 90\n",
        "print(sub)"
      ],
      "execution_count": 0,
      "outputs": []
    },
    {
      "cell_type": "code",
      "metadata": {
        "id": "SUqZdvc8bPU0",
        "colab_type": "code",
        "colab": {}
      },
      "source": [
        "# Multiplicação (*)\n",
        "3 * 7"
      ],
      "execution_count": 0,
      "outputs": []
    },
    {
      "cell_type": "code",
      "metadata": {
        "id": "rNmy86Txba1X",
        "colab_type": "code",
        "colab": {}
      },
      "source": [
        "mult = 3 * 7\n",
        "print(mult)"
      ],
      "execution_count": 0,
      "outputs": []
    },
    {
      "cell_type": "code",
      "metadata": {
        "id": "9WBTyz3ebjdc",
        "colab_type": "code",
        "colab": {}
      },
      "source": [
        "# Divisão (/): resultado com casas decimais, se necessário.\n",
        "4 / 2"
      ],
      "execution_count": 0,
      "outputs": []
    },
    {
      "cell_type": "code",
      "metadata": {
        "id": "A8LYraC0b03M",
        "colab_type": "code",
        "colab": {}
      },
      "source": [
        "div = 10 / 4\n",
        "print(div)"
      ],
      "execution_count": 0,
      "outputs": []
    },
    {
      "cell_type": "code",
      "metadata": {
        "id": "PtXyLXlib8PR",
        "colab_type": "code",
        "colab": {}
      },
      "source": [
        "# Divisão (//): resultado inteiro (sem casas decimais).\n",
        "div_int = 7 // 3\n",
        "print(div_int)"
      ],
      "execution_count": 0,
      "outputs": []
    },
    {
      "cell_type": "code",
      "metadata": {
        "id": "OtVjVL0CcT8K",
        "colab_type": "code",
        "colab": {}
      },
      "source": [
        "# Módulo da Divisão (%): resto da divisão.\n",
        "div_int = 7 % 3\n",
        "print(div_int)"
      ],
      "execution_count": 0,
      "outputs": []
    },
    {
      "cell_type": "code",
      "metadata": {
        "id": "982l3RgAc2tI",
        "colab_type": "code",
        "colab": {}
      },
      "source": [
        "# Exponenciação (**)\n",
        "5**2"
      ],
      "execution_count": 0,
      "outputs": []
    },
    {
      "cell_type": "code",
      "metadata": {
        "id": "or7qJg10c9b9",
        "colab_type": "code",
        "colab": {}
      },
      "source": [
        "expon = 5**2\n",
        "print(expon)"
      ],
      "execution_count": 0,
      "outputs": []
    },
    {
      "cell_type": "markdown",
      "metadata": {
        "id": "M3DN7JMhXETT",
        "colab_type": "text"
      },
      "source": [
        "#### 3.2) Operadores Lógicos"
      ]
    },
    {
      "cell_type": "code",
      "metadata": {
        "id": "R8xuW5y6dmoR",
        "colab_type": "code",
        "colab": {}
      },
      "source": [
        "# Valores Lógicos: True (Verdadeiro) --- False (Falso)"
      ],
      "execution_count": 0,
      "outputs": []
    },
    {
      "cell_type": "code",
      "metadata": {
        "id": "xnwQSCUCdyS8",
        "colab_type": "code",
        "colab": {}
      },
      "source": [
        "True"
      ],
      "execution_count": 0,
      "outputs": []
    },
    {
      "cell_type": "code",
      "metadata": {
        "id": "E5BXcRWnd1xd",
        "colab_type": "code",
        "colab": {}
      },
      "source": [
        "False"
      ],
      "execution_count": 0,
      "outputs": []
    },
    {
      "cell_type": "code",
      "metadata": {
        "id": "RKLtPmmwd3Y1",
        "colab_type": "code",
        "colab": {}
      },
      "source": [
        "resposta = True\n",
        "print(resposta)"
      ],
      "execution_count": 0,
      "outputs": []
    },
    {
      "cell_type": "code",
      "metadata": {
        "id": "AjtE1Y0qdLvT",
        "colab_type": "code",
        "colab": {}
      },
      "source": [
        "# Igualdade (==)\n",
        "3 == 3"
      ],
      "execution_count": 0,
      "outputs": []
    },
    {
      "cell_type": "code",
      "metadata": {
        "id": "ENVgA2t-dbXB",
        "colab_type": "code",
        "colab": {}
      },
      "source": [
        "3 == 2"
      ],
      "execution_count": 0,
      "outputs": []
    },
    {
      "cell_type": "code",
      "metadata": {
        "id": "1ja3N9myeA6d",
        "colab_type": "code",
        "colab": {}
      },
      "source": [
        "a = 2\n",
        "b = 3\n",
        "\n",
        "a == b"
      ],
      "execution_count": 0,
      "outputs": []
    },
    {
      "cell_type": "code",
      "metadata": {
        "id": "IJ9J4Z5SeQTJ",
        "colab_type": "code",
        "colab": {}
      },
      "source": [
        "# Diferente (!=)\n",
        "a != b"
      ],
      "execution_count": 0,
      "outputs": []
    },
    {
      "cell_type": "code",
      "metadata": {
        "id": "HIFFhbyzeabD",
        "colab_type": "code",
        "colab": {}
      },
      "source": [
        "# Maior que (>)\n",
        "a > b"
      ],
      "execution_count": 0,
      "outputs": []
    },
    {
      "cell_type": "code",
      "metadata": {
        "id": "DyTIVSmJeiDj",
        "colab_type": "code",
        "colab": {}
      },
      "source": [
        "# Menor que (<)\n",
        "a < b"
      ],
      "execution_count": 0,
      "outputs": []
    },
    {
      "cell_type": "code",
      "metadata": {
        "id": "wxBQpgleepDA",
        "colab_type": "code",
        "colab": {}
      },
      "source": [
        "# Maior ou igual que (>=)\n",
        "a >= b"
      ],
      "execution_count": 0,
      "outputs": []
    },
    {
      "cell_type": "code",
      "metadata": {
        "id": "S3jZzqsIeyuw",
        "colab_type": "code",
        "colab": {}
      },
      "source": [
        "# Menor ou igual que (<=)\n",
        "a <= b"
      ],
      "execution_count": 0,
      "outputs": []
    },
    {
      "cell_type": "markdown",
      "metadata": {
        "id": "IXqrmNfhXKfb",
        "colab_type": "text"
      },
      "source": [
        "#### 3.3) Operadores de Comparação"
      ]
    },
    {
      "cell_type": "code",
      "metadata": {
        "id": "s4qmrTwMfCpn",
        "colab_type": "code",
        "colab": {}
      },
      "source": [
        "# \"E\" (and): somente é verdadeiro se todas os elementos forem verdadeiros\n",
        "a = True\n",
        "b = True\n",
        "\n",
        "print(a and b)"
      ],
      "execution_count": 0,
      "outputs": []
    },
    {
      "cell_type": "code",
      "metadata": {
        "id": "FcmEitNRfndA",
        "colab_type": "code",
        "colab": {}
      },
      "source": [
        "# \"OU\" (or): é verdadeiro se qualquer um dos elementos forem verdadeiros\n",
        "a = True\n",
        "b = False\n",
        "\n",
        "print(a or b)"
      ],
      "execution_count": 0,
      "outputs": []
    },
    {
      "cell_type": "code",
      "metadata": {
        "id": "tqN2bFyvf4sN",
        "colab_type": "code",
        "colab": {}
      },
      "source": [
        "# \"Negação\" (not): inverte o valor lógico do elemento\n",
        "a = True\n",
        "\n",
        "print(not a)"
      ],
      "execution_count": 0,
      "outputs": []
    },
    {
      "cell_type": "markdown",
      "metadata": {
        "id": "ndpGWIf3XTUs",
        "colab_type": "text"
      },
      "source": [
        "### 4. Métodos"
      ]
    },
    {
      "cell_type": "markdown",
      "metadata": {
        "id": "-T2tRroYgR-_",
        "colab_type": "text"
      },
      "source": [
        "#### 4.1) Built-in (embutidos)\n",
        "\n",
        "*Estes métodos/funções já estão disponíveis a partir do próprio Python.*"
      ]
    },
    {
      "cell_type": "code",
      "metadata": {
        "id": "kMq-n3k8gytK",
        "colab_type": "code",
        "colab": {}
      },
      "source": [
        "# Exemplos de métodos built-ins\n",
        "\n",
        "print('professor') # exibe o conteúdo na saída padrão do sistema\n",
        "int('3')           # converte um valor para o tipo inteiro, se possível\n",
        "str(42)            # converte um valor para o tipo string"
      ],
      "execution_count": 0,
      "outputs": []
    },
    {
      "cell_type": "markdown",
      "metadata": {
        "id": "UmdDFXVhgo2d",
        "colab_type": "text"
      },
      "source": [
        "#### 4.1) Definidos pelo usuário\n",
        "\n",
        "*Estes métodos/funções devem sem implementados pelo desenvolvedor.*\n",
        "\n",
        "Para definir um método, utilize a palavra resenvada *def*. Lembre-se de utilizar a identação correta dentro do método, como no exemplo abaixo.\n",
        "\n",
        "```python\n",
        "def seu_metodo():\n",
        "  print('Meu método')\n",
        "```"
      ]
    },
    {
      "cell_type": "code",
      "metadata": {
        "id": "Y15tlnnTgzQe",
        "colab_type": "code",
        "colab": {}
      },
      "source": [
        "def soma_numeros(a, b):\n",
        "  print(a + b)"
      ],
      "execution_count": 0,
      "outputs": []
    },
    {
      "cell_type": "markdown",
      "metadata": {
        "id": "AmynujbXXY-0",
        "colab_type": "text"
      },
      "source": [
        "### 5. Coleções\n",
        "\n",
        "Coleções em python representam um agrupamento de elementos em uma única variável"
      ]
    },
    {
      "cell_type": "markdown",
      "metadata": {
        "id": "cxvhgE3uXfaE",
        "colab_type": "text"
      },
      "source": [
        "#### 5.1) Lista\n",
        "\n"
      ]
    },
    {
      "cell_type": "markdown",
      "metadata": {
        "id": "VQ6v-efDXin9",
        "colab_type": "text"
      },
      "source": [
        "#### 5.2) Tupla"
      ]
    },
    {
      "cell_type": "markdown",
      "metadata": {
        "id": "sForYMNRXmfD",
        "colab_type": "text"
      },
      "source": [
        "#### 5.3) Conjunto"
      ]
    },
    {
      "cell_type": "markdown",
      "metadata": {
        "id": "jMEQPIGVXtxx",
        "colab_type": "text"
      },
      "source": [
        "### 6. Estrutura Condicional IF-ELSE"
      ]
    },
    {
      "cell_type": "markdown",
      "metadata": {
        "id": "fuu3OxL6X02l",
        "colab_type": "text"
      },
      "source": [
        "### 7. Estruturas de Repetição"
      ]
    },
    {
      "cell_type": "markdown",
      "metadata": {
        "id": "g9UMbqkVX70y",
        "colab_type": "text"
      },
      "source": [
        "#### 7.1) FOR"
      ]
    },
    {
      "cell_type": "markdown",
      "metadata": {
        "id": "mcXF1ky6YDmX",
        "colab_type": "text"
      },
      "source": [
        "#### 7.2) WHILE"
      ]
    }
  ]
}