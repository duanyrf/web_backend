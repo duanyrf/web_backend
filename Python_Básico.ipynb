{
 "cells": [
  {
   "cell_type": "markdown",
   "execution_count": null,
   "metadata": {},
   "outputs": [],
   "source": [
    "<a href=\"https://colab.research.google.com/github/duanyrf/web_backend/blob/master/Python_B%C3%A1sico.ipynb\" target=\"_parent\"><img src=\"https://colab.research.google.com/assets/colab-badge.svg\" alt=\"Open In Colab\"/></a>"
   ]
  },
  {
   "cell_type": "markdown",
   "execution_count": null,
   "metadata": {
    "colab_type": "text",
    "id": "UVirLfDeUdCH"
   },
   "outputs": [],
   "source": [
    "# **Python Básico**\n",
    "\n",
    "Disciplina: Programação Web Backend\n",
    "\n",
    "Professor: Me. Duany Dreyton\n",
    "\n",
    "Semestre Letivo: 2020.2 "
   ]
  },
  {
   "cell_type": "markdown",
   "execution_count": null,
   "metadata": {
    "colab_type": "text",
    "id": "2IjAW61pVaaV"
   },
   "outputs": [],
   "source": [
    "*Assunto: Neste notebook serão reapresentados conceitos básicos da Linguagem Python.*"
   ]
  },
  {
   "cell_type": "markdown",
   "execution_count": null,
   "metadata": {
    "colab_type": "text",
    "id": "8xLuwarwV8on"
   },
   "outputs": [],
   "source": [
    "##Revisão de Linguagem Python (básico):\n",
    "- Executando scripts em Python\n",
    "- Declarando variáveis\n",
    "- Operadores matemáticos\n",
    "- Métodos\n",
    "- Coleções :\n",
    "    * Lista\n",
    "    * Tupla\n",
    "    * Conjunto\n",
    "- Estrutura Condicional (IF-ELSE)\n",
    "- Estruturas de Repetição (FOR, WHILE)"
   ]
  },
  {
   "cell_type": "markdown",
   "execution_count": null,
   "metadata": {
    "colab_type": "text",
    "id": "g5N-kLumWTnN"
   },
   "outputs": [],
   "source": [
    "### 1. Scripts em Python\n",
    "\n",
    "Scripts em Python são executados à partir de um terminal/console do sistema operacional. Para isso, é necessário seguir as seguintes etapas:\n",
    "\n",
    "a) Com o auxílio de um editor de texto ou IDE, crie um novo arquivo com o conteúdo *print('Olá Mundo!')* e salve-o com a extensão \"*.py*\".\n",
    "\n",
    "b) Abra o terminal de linha de comando e navegue até o diretório onde o arquivo python está.\n",
    "\n",
    "c) Execute o seguinte comando: \n",
    "\n",
    "``` bash\n",
    "$ python <nome-arquivo>.py\n",
    "```\n",
    "Aguarde e observe o resultado do seu programa na tela do terminal.\n"
   ]
  },
  {
   "cell_type": "markdown",
   "execution_count": null,
   "metadata": {
    "colab_type": "text",
    "id": "MaaCoVQCWmgw"
   },
   "outputs": [],
   "source": [
    "### 2. Variáveis"
   ]
  },
  {
   "cell_type": "code",
   "execution_count": null,
   "metadata": {},
   "outputs": [],
   "source": [
    "a = 1"
   ]
  },
  {
   "cell_type": "code",
   "execution_count": null,
   "metadata": {},
   "outputs": [],
   "source": [
    "a"
   ]
  },
  {
   "cell_type": "code",
   "execution_count": null,
   "metadata": {},
   "outputs": [],
   "source": [
    "print(a)"
   ]
  },
  {
   "cell_type": "code",
   "execution_count": null,
   "metadata": {},
   "outputs": [],
   "source": [
    "b = 200"
   ]
  },
  {
   "cell_type": "code",
   "execution_count": null,
   "metadata": {},
   "outputs": [],
   "source": [
    "print(b)"
   ]
  },
  {
   "cell_type": "code",
   "execution_count": null,
   "metadata": {},
   "outputs": [],
   "source": [
    "a = 123"
   ]
  },
  {
   "cell_type": "code",
   "execution_count": null,
   "metadata": {},
   "outputs": [],
   "source": [
    "print(a)"
   ]
  },
  {
   "cell_type": "code",
   "execution_count": null,
   "metadata": {},
   "outputs": [],
   "source": [
    "a = 'aluno'"
   ]
  },
  {
   "cell_type": "code",
   "execution_count": null,
   "metadata": {},
   "outputs": [],
   "source": [
    "print(a)"
   ]
  },
  {
   "cell_type": "markdown",
   "execution_count": null,
   "metadata": {
    "colab_type": "text",
    "id": "7yrBMBYgWrwc"
   },
   "outputs": [],
   "source": [
    "### 3. Operadores Matemáticos"
   ]
  },
  {
   "cell_type": "markdown",
   "execution_count": null,
   "metadata": {
    "colab_type": "text",
    "id": "qfsqASPOW8zB"
   },
   "outputs": [],
   "source": [
    "#### 3.1) Operadores Aritméticos"
   ]
  },
  {
   "cell_type": "code",
   "execution_count": null,
   "metadata": {},
   "outputs": [],
   "source": [
    "# Adição (+)\n",
    "1 + 1"
   ]
  },
  {
   "cell_type": "code",
   "execution_count": null,
   "metadata": {},
   "outputs": [],
   "source": [
    "soma = 3 + 5\n",
    "print(soma)"
   ]
  },
  {
   "cell_type": "code",
   "execution_count": null,
   "metadata": {},
   "outputs": [],
   "source": [
    "# Subtração (-)\n",
    "123 - 90"
   ]
  },
  {
   "cell_type": "code",
   "execution_count": null,
   "metadata": {},
   "outputs": [],
   "source": [
    "sub = 123 - 90\n",
    "print(sub)"
   ]
  },
  {
   "cell_type": "code",
   "execution_count": null,
   "metadata": {},
   "outputs": [],
   "source": [
    "# Multiplicação (*)\n",
    "3 * 7"
   ]
  },
  {
   "cell_type": "code",
   "execution_count": null,
   "metadata": {},
   "outputs": [],
   "source": [
    "mult = 3 * 7\n",
    "print(mult)"
   ]
  },
  {
   "cell_type": "code",
   "execution_count": null,
   "metadata": {},
   "outputs": [],
   "source": [
    "# Divisão (/): resultado com casas decimais, se necessário.\n",
    "4 / 2"
   ]
  },
  {
   "cell_type": "code",
   "execution_count": null,
   "metadata": {},
   "outputs": [],
   "source": [
    "div = 10 / 4\n",
    "print(div)"
   ]
  },
  {
   "cell_type": "code",
   "execution_count": null,
   "metadata": {},
   "outputs": [],
   "source": [
    "# Divisão (//): resultado inteiro (sem casas decimais).\n",
    "div_int = 7 // 3\n",
    "print(div_int)"
   ]
  },
  {
   "cell_type": "code",
   "execution_count": null,
   "metadata": {},
   "outputs": [],
   "source": [
    "# Módulo da Divisão (%): resto da divisão.\n",
    "div_int = 7 % 3\n",
    "print(div_int)"
   ]
  },
  {
   "cell_type": "code",
   "execution_count": null,
   "metadata": {},
   "outputs": [],
   "source": [
    "# Exponenciação (**)\n",
    "5**2"
   ]
  },
  {
   "cell_type": "code",
   "execution_count": null,
   "metadata": {},
   "outputs": [],
   "source": [
    "expon = 5**2\n",
    "print(expon)"
   ]
  },
  {
   "cell_type": "markdown",
   "execution_count": null,
   "metadata": {
    "colab_type": "text",
    "id": "M3DN7JMhXETT"
   },
   "outputs": [],
   "source": [
    "#### 3.2) Operadores Lógicos"
   ]
  },
  {
   "cell_type": "code",
   "execution_count": null,
   "metadata": {},
   "outputs": [],
   "source": [
    "# Valores Lógicos: True (Verdadeiro) --- False (Falso)"
   ]
  },
  {
   "cell_type": "code",
   "execution_count": null,
   "metadata": {},
   "outputs": [],
   "source": [
    "True"
   ]
  },
  {
   "cell_type": "code",
   "execution_count": null,
   "metadata": {},
   "outputs": [],
   "source": [
    "False"
   ]
  },
  {
   "cell_type": "code",
   "execution_count": null,
   "metadata": {},
   "outputs": [],
   "source": [
    "resposta = True\n",
    "print(resposta)"
   ]
  },
  {
   "cell_type": "code",
   "execution_count": null,
   "metadata": {},
   "outputs": [],
   "source": [
    "# Igualdade (==)\n",
    "3 == 3"
   ]
  },
  {
   "cell_type": "code",
   "execution_count": null,
   "metadata": {},
   "outputs": [],
   "source": [
    "3 == 2"
   ]
  },
  {
   "cell_type": "code",
   "execution_count": null,
   "metadata": {},
   "outputs": [],
   "source": [
    "a = 2\n",
    "b = 3\n",
    "\n",
    "a == b"
   ]
  },
  {
   "cell_type": "code",
   "execution_count": null,
   "metadata": {},
   "outputs": [],
   "source": [
    "# Diferente (!=)\n",
    "a != b"
   ]
  },
  {
   "cell_type": "code",
   "execution_count": null,
   "metadata": {},
   "outputs": [],
   "source": [
    "# Maior que (>)\n",
    "a > b"
   ]
  },
  {
   "cell_type": "code",
   "execution_count": null,
   "metadata": {},
   "outputs": [],
   "source": [
    "# Menor que (<)\n",
    "a < b"
   ]
  },
  {
   "cell_type": "code",
   "execution_count": null,
   "metadata": {},
   "outputs": [],
   "source": [
    "# Maior ou igual que (>=)\n",
    "a >= b"
   ]
  },
  {
   "cell_type": "code",
   "execution_count": null,
   "metadata": {},
   "outputs": [],
   "source": [
    "# Menor ou igual que (<=)\n",
    "a <= b"
   ]
  },
  {
   "cell_type": "markdown",
   "execution_count": null,
   "metadata": {
    "colab_type": "text",
    "id": "IXqrmNfhXKfb"
   },
   "outputs": [],
   "source": [
    "#### 3.3) Operadores de Comparação"
   ]
  },
  {
   "cell_type": "code",
   "execution_count": null,
   "metadata": {},
   "outputs": [],
   "source": [
    "# \"E\" (and): somente é verdadeiro se todas os elementos forem verdadeiros\n",
    "a = True\n",
    "b = True\n",
    "\n",
    "print(a and b)"
   ]
  },
  {
   "cell_type": "code",
   "execution_count": null,
   "metadata": {},
   "outputs": [],
   "source": [
    "# \"OU\" (or): é verdadeiro se qualquer um dos elementos forem verdadeiros\n",
    "a = True\n",
    "b = False\n",
    "\n",
    "print(a or b)"
   ]
  },
  {
   "cell_type": "code",
   "execution_count": null,
   "metadata": {},
   "outputs": [],
   "source": [
    "# \"Negação\" (not): inverte o valor lógico do elemento\n",
    "a = True\n",
    "\n",
    "print(not a)"
   ]
  },
  {
   "cell_type": "markdown",
   "execution_count": null,
   "metadata": {
    "colab_type": "text",
    "id": "ndpGWIf3XTUs"
   },
   "outputs": [],
   "source": [
    "### 4. Funções"
   ]
  },
  {
   "cell_type": "markdown",
   "execution_count": null,
   "metadata": {},
   "outputs": [],
   "source": [
    "Funções em Python fornecem ao desenvolvedor a possibilidade de encapsular algum comportamento específico dentro de um bloco reutilizável de código. É importante lembrar que a identação correta é obrigatória no Python. Portanto, todo o código dentro de uma função deve estar recuado ao menos um nível."
   ]
  },
  {
   "cell_type": "markdown",
   "execution_count": null,
   "metadata": {
    "colab_type": "text",
    "id": "-T2tRroYgR-_"
   },
   "outputs": [],
   "source": [
    "#### 4.1) Built-in (embutidos)\n",
    "\n",
    "*Estas funções já estão disponíveis a partir do próprio Python.*"
   ]
  },
  {
   "cell_type": "code",
   "execution_count": null,
   "metadata": {},
   "outputs": [],
   "source": [
    "# Exemplos de funções built-ins\n",
    "\n",
    "print('professor') # exibe o conteúdo na saída padrão do sistema\n",
    "int('3')           # converte um valor para o tipo inteiro, se possível\n",
    "str(42)            # converte um valor para o tipo string"
   ]
  },
  {
   "cell_type": "markdown",
   "execution_count": null,
   "metadata": {
    "colab_type": "text",
    "id": "UmdDFXVhgo2d"
   },
   "outputs": [],
   "source": [
    "#### 4.1) Definidos pelo usuário\n",
    "\n",
    "*Estas funções devem sem implementadas pelo desenvolvedor.*\n",
    "\n",
    "Para definir uma função, utilize a palavra resenvada *def*. Lembre-se de utilizar a identação correta dentro do método, como no exemplo abaixo.\n",
    "\n",
    "```python\n",
    "def sua_funcao():\n",
    "  print('Olá Mundo!')\n",
    "```"
   ]
  },
  {
   "cell_type": "code",
   "execution_count": null,
   "metadata": {},
   "outputs": [],
   "source": [
    "def somar_numeros(a, b):\n",
    "  print(a + b)"
   ]
  }
 ],
 "metadata": {
  "accelerator": "GPU",
  "colab": {
   "collapsed_sections": [],
   "name": "Python_Básico.ipynb",
   "provenance": []
  },
  "kernelspec": {
   "display_name": "Python 3",
   "language": "python",
   "name": "python3"
  },
  "language_info": {
   "codemirror_mode": {
    "name": "ipython",
    "version": 3
   },
   "file_extension": ".py",
   "mimetype": "text/x-python",
   "name": "python",
   "nbconvert_exporter": "python",
   "pygments_lexer": "ipython3",
   "version": "3.7.4"
  }
 },
 "nbformat": 4,
 "nbformat_minor": 4
}
