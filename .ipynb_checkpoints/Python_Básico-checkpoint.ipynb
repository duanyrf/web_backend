{
 "cells": [
  {
   "cell_type": "markdown",
   "metadata": {},
   "source": [
    "<a href=\"https://colab.research.google.com/github/duanyrf/web_backend/blob/master/Python_B%C3%A1sico.ipynb\" target=\"_parent\"><img src=\"https://colab.research.google.com/assets/colab-badge.svg\" alt=\"Open In Colab\"/></a>"
   ]
  },
  {
   "cell_type": "markdown",
   "metadata": {
    "colab_type": "text",
    "id": "UVirLfDeUdCH"
   },
   "source": [
    "# **Python Básico**\n",
    "\n",
    "Disciplina: Programação Web Backend\n",
    "\n",
    "Professor: Me. Duany Dreyton\n",
    "\n",
    "Semestre Letivo: 2020.1 "
   ]
  },
  {
   "cell_type": "markdown",
   "metadata": {
    "colab_type": "text",
    "id": "2IjAW61pVaaV"
   },
   "source": [
    "*Assunto: Neste notebook serão reapresentados conceitos básicos da Linguagem Python.*"
   ]
  },
  {
   "cell_type": "markdown",
   "metadata": {
    "colab_type": "text",
    "id": "8xLuwarwV8on"
   },
   "source": [
    "##Revisão de Linguagem Python (básico):\n",
    "- Executando scripts em Python\n",
    "- Declarando variáveis\n",
    "- Operadores matemáticos\n",
    "- Métodos\n",
    "- Coleções :\n",
    "    * Lista\n",
    "    * Tupla\n",
    "    * Conjunto\n",
    "- Estrutura Condicional (IF-ELSE)\n",
    "- Estruturas de Repetição (FOR, WHILE)"
   ]
  },
  {
   "cell_type": "markdown",
   "metadata": {
    "colab_type": "text",
    "id": "g5N-kLumWTnN"
   },
   "source": [
    "### 1. Scripts em Python\n",
    "\n",
    "Scripts em Python são executados à partir de um terminal/console do sistema operacional. Para isso, é necessário seguir as seguintes etapas:\n",
    "\n",
    "a) Com o auxílio de um editor de texto ou IDE, crie um novo arquivo com o conteúdo *print('Olá Mundo!')* e salve-o com a extensão \"*.py*\".\n",
    "\n",
    "b) Abra o terminal de linha de comando e navegue até o diretório onde o arquivo python está.\n",
    "\n",
    "c) Execute o seguinte comando: \n",
    "\n",
    "``` bash\n",
    "$ python <nome-arquivo>.py\n",
    "```\n",
    "Aguarde e observe o resultado do seu programa na tela do terminal.\n"
   ]
  },
  {
   "cell_type": "markdown",
   "metadata": {
    "colab_type": "text",
    "id": "MaaCoVQCWmgw"
   },
   "source": [
    "### 2. Variáveis"
   ]
  },
  {
   "cell_type": "code",
   "execution_count": null,
   "metadata": {
    "colab": {},
    "colab_type": "code",
    "id": "32m-yYrRZrYs"
   },
   "outputs": [],
   "source": [
    "a = 1"
   ]
  },
  {
   "cell_type": "code",
   "execution_count": null,
   "metadata": {
    "colab": {},
    "colab_type": "code",
    "id": "avP8QJpJaIq2"
   },
   "outputs": [],
   "source": [
    "a"
   ]
  },
  {
   "cell_type": "code",
   "execution_count": null,
   "metadata": {
    "colab": {},
    "colab_type": "code",
    "id": "e97x_8gRaLkA"
   },
   "outputs": [],
   "source": [
    "print(a)"
   ]
  },
  {
   "cell_type": "code",
   "execution_count": null,
   "metadata": {
    "colab": {},
    "colab_type": "code",
    "id": "8vSjnWezaORk"
   },
   "outputs": [],
   "source": [
    "b = 200"
   ]
  },
  {
   "cell_type": "code",
   "execution_count": null,
   "metadata": {
    "colab": {},
    "colab_type": "code",
    "id": "FkljTYNfaTUa"
   },
   "outputs": [],
   "source": [
    "print(b)"
   ]
  },
  {
   "cell_type": "code",
   "execution_count": null,
   "metadata": {
    "colab": {},
    "colab_type": "code",
    "id": "srf8CsIbaWOX"
   },
   "outputs": [],
   "source": [
    "a = 123"
   ]
  },
  {
   "cell_type": "code",
   "execution_count": null,
   "metadata": {
    "colab": {},
    "colab_type": "code",
    "id": "Xraoa-aSaZdc"
   },
   "outputs": [],
   "source": [
    "print(a)"
   ]
  },
  {
   "cell_type": "code",
   "execution_count": null,
   "metadata": {
    "colab": {},
    "colab_type": "code",
    "id": "hUZd-ggaabhJ"
   },
   "outputs": [],
   "source": [
    "a = 'aluno'"
   ]
  },
  {
   "cell_type": "code",
   "execution_count": null,
   "metadata": {
    "colab": {},
    "colab_type": "code",
    "id": "WXuYB-jcagjf"
   },
   "outputs": [],
   "source": [
    "print(a)"
   ]
  },
  {
   "cell_type": "markdown",
   "metadata": {
    "colab_type": "text",
    "id": "7yrBMBYgWrwc"
   },
   "source": [
    "### 3. Operadores Matemáticos"
   ]
  },
  {
   "cell_type": "markdown",
   "metadata": {
    "colab_type": "text",
    "id": "qfsqASPOW8zB"
   },
   "source": [
    "#### 3.1) Operadores Aritméticos"
   ]
  },
  {
   "cell_type": "code",
   "execution_count": null,
   "metadata": {
    "colab": {},
    "colab_type": "code",
    "id": "bSH9anAoamDt"
   },
   "outputs": [],
   "source": [
    "# Adição (+)\n",
    "1 + 1"
   ]
  },
  {
   "cell_type": "code",
   "execution_count": null,
   "metadata": {
    "colab": {},
    "colab_type": "code",
    "id": "EVSnS-WMatBw"
   },
   "outputs": [],
   "source": [
    "soma = 3 + 5\n",
    "print(soma)"
   ]
  },
  {
   "cell_type": "code",
   "execution_count": null,
   "metadata": {
    "colab": {},
    "colab_type": "code",
    "id": "rhllmDZDa8xW"
   },
   "outputs": [],
   "source": [
    "# Subtração (-)\n",
    "123 - 90"
   ]
  },
  {
   "cell_type": "code",
   "execution_count": null,
   "metadata": {
    "colab": {},
    "colab_type": "code",
    "id": "MgdZrInObIYN"
   },
   "outputs": [],
   "source": [
    "sub = 123 - 90\n",
    "print(sub)"
   ]
  },
  {
   "cell_type": "code",
   "execution_count": null,
   "metadata": {
    "colab": {},
    "colab_type": "code",
    "id": "SUqZdvc8bPU0"
   },
   "outputs": [],
   "source": [
    "# Multiplicação (*)\n",
    "3 * 7"
   ]
  },
  {
   "cell_type": "code",
   "execution_count": null,
   "metadata": {
    "colab": {},
    "colab_type": "code",
    "id": "rNmy86Txba1X"
   },
   "outputs": [],
   "source": [
    "mult = 3 * 7\n",
    "print(mult)"
   ]
  },
  {
   "cell_type": "code",
   "execution_count": null,
   "metadata": {
    "colab": {},
    "colab_type": "code",
    "id": "9WBTyz3ebjdc"
   },
   "outputs": [],
   "source": [
    "# Divisão (/): resultado com casas decimais, se necessário.\n",
    "4 / 2"
   ]
  },
  {
   "cell_type": "code",
   "execution_count": null,
   "metadata": {
    "colab": {},
    "colab_type": "code",
    "id": "A8LYraC0b03M"
   },
   "outputs": [],
   "source": [
    "div = 10 / 4\n",
    "print(div)"
   ]
  },
  {
   "cell_type": "code",
   "execution_count": null,
   "metadata": {
    "colab": {},
    "colab_type": "code",
    "id": "PtXyLXlib8PR"
   },
   "outputs": [],
   "source": [
    "# Divisão (//): resultado inteiro (sem casas decimais).\n",
    "div_int = 7 // 3\n",
    "print(div_int)"
   ]
  },
  {
   "cell_type": "code",
   "execution_count": null,
   "metadata": {
    "colab": {},
    "colab_type": "code",
    "id": "OtVjVL0CcT8K"
   },
   "outputs": [],
   "source": [
    "# Módulo da Divisão (%): resto da divisão.\n",
    "div_int = 7 % 3\n",
    "print(div_int)"
   ]
  },
  {
   "cell_type": "code",
   "execution_count": null,
   "metadata": {
    "colab": {},
    "colab_type": "code",
    "id": "982l3RgAc2tI"
   },
   "outputs": [],
   "source": [
    "# Exponenciação (**)\n",
    "5**2"
   ]
  },
  {
   "cell_type": "code",
   "execution_count": null,
   "metadata": {
    "colab": {},
    "colab_type": "code",
    "id": "or7qJg10c9b9"
   },
   "outputs": [],
   "source": [
    "expon = 5**2\n",
    "print(expon)"
   ]
  },
  {
   "cell_type": "markdown",
   "metadata": {
    "colab_type": "text",
    "id": "M3DN7JMhXETT"
   },
   "source": [
    "#### 3.2) Operadores Lógicos"
   ]
  },
  {
   "cell_type": "code",
   "execution_count": null,
   "metadata": {
    "colab": {},
    "colab_type": "code",
    "id": "R8xuW5y6dmoR"
   },
   "outputs": [],
   "source": [
    "# Valores Lógicos: True (Verdadeiro) --- False (Falso)"
   ]
  },
  {
   "cell_type": "code",
   "execution_count": null,
   "metadata": {
    "colab": {},
    "colab_type": "code",
    "id": "xnwQSCUCdyS8"
   },
   "outputs": [],
   "source": [
    "True"
   ]
  },
  {
   "cell_type": "code",
   "execution_count": null,
   "metadata": {
    "colab": {},
    "colab_type": "code",
    "id": "E5BXcRWnd1xd"
   },
   "outputs": [],
   "source": [
    "False"
   ]
  },
  {
   "cell_type": "code",
   "execution_count": null,
   "metadata": {
    "colab": {},
    "colab_type": "code",
    "id": "RKLtPmmwd3Y1"
   },
   "outputs": [],
   "source": [
    "resposta = True\n",
    "print(resposta)"
   ]
  },
  {
   "cell_type": "code",
   "execution_count": null,
   "metadata": {
    "colab": {},
    "colab_type": "code",
    "id": "AjtE1Y0qdLvT"
   },
   "outputs": [],
   "source": [
    "# Igualdade (==)\n",
    "3 == 3"
   ]
  },
  {
   "cell_type": "code",
   "execution_count": null,
   "metadata": {
    "colab": {},
    "colab_type": "code",
    "id": "ENVgA2t-dbXB"
   },
   "outputs": [],
   "source": [
    "3 == 2"
   ]
  },
  {
   "cell_type": "code",
   "execution_count": null,
   "metadata": {
    "colab": {},
    "colab_type": "code",
    "id": "1ja3N9myeA6d"
   },
   "outputs": [],
   "source": [
    "a = 2\n",
    "b = 3\n",
    "\n",
    "a == b"
   ]
  },
  {
   "cell_type": "code",
   "execution_count": null,
   "metadata": {
    "colab": {},
    "colab_type": "code",
    "id": "IJ9J4Z5SeQTJ"
   },
   "outputs": [],
   "source": [
    "# Diferente (!=)\n",
    "a != b"
   ]
  },
  {
   "cell_type": "code",
   "execution_count": null,
   "metadata": {
    "colab": {},
    "colab_type": "code",
    "id": "HIFFhbyzeabD"
   },
   "outputs": [],
   "source": [
    "# Maior que (>)\n",
    "a > b"
   ]
  },
  {
   "cell_type": "code",
   "execution_count": null,
   "metadata": {
    "colab": {},
    "colab_type": "code",
    "id": "DyTIVSmJeiDj"
   },
   "outputs": [],
   "source": [
    "# Menor que (<)\n",
    "a < b"
   ]
  },
  {
   "cell_type": "code",
   "execution_count": null,
   "metadata": {
    "colab": {},
    "colab_type": "code",
    "id": "wxBQpgleepDA"
   },
   "outputs": [],
   "source": [
    "# Maior ou igual que (>=)\n",
    "a >= b"
   ]
  },
  {
   "cell_type": "code",
   "execution_count": null,
   "metadata": {
    "colab": {},
    "colab_type": "code",
    "id": "S3jZzqsIeyuw"
   },
   "outputs": [],
   "source": [
    "# Menor ou igual que (<=)\n",
    "a <= b"
   ]
  },
  {
   "cell_type": "markdown",
   "metadata": {
    "colab_type": "text",
    "id": "IXqrmNfhXKfb"
   },
   "source": [
    "#### 3.3) Operadores de Comparação"
   ]
  },
  {
   "cell_type": "code",
   "execution_count": null,
   "metadata": {
    "colab": {},
    "colab_type": "code",
    "id": "s4qmrTwMfCpn"
   },
   "outputs": [],
   "source": [
    "# \"E\" (and): somente é verdadeiro se todas os elementos forem verdadeiros\n",
    "a = True\n",
    "b = True\n",
    "\n",
    "print(a and b)"
   ]
  },
  {
   "cell_type": "code",
   "execution_count": null,
   "metadata": {
    "colab": {},
    "colab_type": "code",
    "id": "FcmEitNRfndA"
   },
   "outputs": [],
   "source": [
    "# \"OU\" (or): é verdadeiro se qualquer um dos elementos forem verdadeiros\n",
    "a = True\n",
    "b = False\n",
    "\n",
    "print(a or b)"
   ]
  },
  {
   "cell_type": "code",
   "execution_count": null,
   "metadata": {
    "colab": {},
    "colab_type": "code",
    "id": "tqN2bFyvf4sN"
   },
   "outputs": [],
   "source": [
    "# \"Negação\" (not): inverte o valor lógico do elemento\n",
    "a = True\n",
    "\n",
    "print(not a)"
   ]
  },
  {
   "cell_type": "markdown",
   "metadata": {
    "colab_type": "text",
    "id": "ndpGWIf3XTUs"
   },
   "source": [
    "### 4. Métodos"
   ]
  },
  {
   "cell_type": "markdown",
   "metadata": {
    "colab_type": "text",
    "id": "-T2tRroYgR-_"
   },
   "source": [
    "#### 4.1) Built-in (embutidos)\n",
    "\n",
    "*Estes métodos/funções já estão disponíveis a partir do próprio Python.*"
   ]
  },
  {
   "cell_type": "code",
   "execution_count": null,
   "metadata": {
    "colab": {},
    "colab_type": "code",
    "id": "kMq-n3k8gytK"
   },
   "outputs": [],
   "source": [
    "# Exemplos de métodos built-ins\n",
    "\n",
    "print('professor') # exibe o conteúdo na saída padrão do sistema\n",
    "int('3')           # converte um valor para o tipo inteiro, se possível\n",
    "str(42)            # converte um valor para o tipo string"
   ]
  },
  {
   "cell_type": "markdown",
   "metadata": {
    "colab_type": "text",
    "id": "UmdDFXVhgo2d"
   },
   "source": [
    "#### 4.1) Definidos pelo usuário\n",
    "\n",
    "*Estes métodos/funções devem sem implementados pelo desenvolvedor.*\n",
    "\n",
    "Para definir um método, utilize a palavra resenvada *def*. Lembre-se de utilizar a identação correta dentro do método, como no exemplo abaixo.\n",
    "\n",
    "```python\n",
    "def seu_metodo():\n",
    "  print('Meu método')\n",
    "```"
   ]
  },
  {
   "cell_type": "code",
   "execution_count": null,
   "metadata": {
    "colab": {},
    "colab_type": "code",
    "id": "Y15tlnnTgzQe"
   },
   "outputs": [],
   "source": [
    "def soma_numeros(a, b):\n",
    "  print(a + b)"
   ]
  },
  {
   "cell_type": "markdown",
   "metadata": {
    "colab_type": "text",
    "id": "AmynujbXXY-0"
   },
   "source": [
    "### 5. Coleções\n",
    "\n",
    "Coleções em python representam um agrupamento de elementos em uma única variável"
   ]
  },
  {
   "cell_type": "markdown",
   "metadata": {
    "colab_type": "text",
    "id": "cxvhgE3uXfaE"
   },
   "source": [
    "#### 5.1) Lista\n",
    "\n"
   ]
  },
  {
   "cell_type": "markdown",
   "metadata": {
    "colab_type": "text",
    "id": "VQ6v-efDXin9"
   },
   "source": [
    "#### 5.2) Tupla"
   ]
  },
  {
   "cell_type": "markdown",
   "metadata": {
    "colab_type": "text",
    "id": "sForYMNRXmfD"
   },
   "source": [
    "#### 5.3) Conjunto"
   ]
  },
  {
   "cell_type": "markdown",
   "metadata": {
    "colab_type": "text",
    "id": "jMEQPIGVXtxx"
   },
   "source": [
    "### 6. Estrutura Condicional IF-ELSE"
   ]
  },
  {
   "cell_type": "markdown",
   "metadata": {
    "colab_type": "text",
    "id": "fuu3OxL6X02l"
   },
   "source": [
    "### 7. Estruturas de Repetição"
   ]
  },
  {
   "cell_type": "markdown",
   "metadata": {
    "colab_type": "text",
    "id": "g9UMbqkVX70y"
   },
   "source": [
    "#### 7.1) FOR"
   ]
  },
  {
   "cell_type": "markdown",
   "metadata": {
    "colab_type": "text",
    "id": "mcXF1ky6YDmX"
   },
   "source": [
    "#### 7.2) WHILE"
   ]
  },
  {
   "cell_type": "code",
   "execution_count": null,
   "metadata": {},
   "outputs": [],
   "source": []
  }
 ],
 "metadata": {
  "accelerator": "GPU",
  "colab": {
   "collapsed_sections": [],
   "name": "Python_Básico.ipynb",
   "provenance": []
  },
  "kernelspec": {
   "display_name": "Python 3",
   "language": "python",
   "name": "python3"
  },
  "language_info": {
   "codemirror_mode": {
    "name": "ipython",
    "version": 3
   },
   "file_extension": ".py",
   "mimetype": "text/x-python",
   "name": "python",
   "nbconvert_exporter": "python",
   "pygments_lexer": "ipython3",
   "version": "3.7.4"
  }
 },
 "nbformat": 4,
 "nbformat_minor": 4
}
